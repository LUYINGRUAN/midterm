{
 "cells": [
  {
   "cell_type": "markdown",
   "metadata": {},
   "source": [
    "# Libraries"
   ]
  },
  {
   "cell_type": "code",
   "execution_count": 1,
   "metadata": {},
   "outputs": [],
   "source": [
    "import pickle\n",
    "import pandas as pd\n",
    "import seaborn as sns\n",
    "from os.path import exists\n",
    "import matplotlib.pyplot as plt\n",
    "from sklearn.neighbors import KNeighborsClassifier\n",
    "from sklearn.model_selection import train_test_split\n",
    "from sklearn.metrics import accuracy_score, confusion_matrix"
   ]
  },
  {
   "cell_type": "markdown",
   "metadata": {},
   "source": [
    "# Loading the Files\n",
    "\n",
    "Download the csv files into the `data/` directory."
   ]
  },
  {
   "cell_type": "code",
   "execution_count": 2,
   "metadata": {},
   "outputs": [
    {
     "name": "stdout",
     "output_type": "stream",
     "text": [
      "train.csv shape is  (1697533, 9)\n",
      "test.csv shape is  (212192, 2)\n",
      "\n",
      "        Id   ProductId          UserId  HelpfulnessNumerator  \\\n",
      "0   914403  B0009W5KHM   AV6QDP8Q0ONK4                     2   \n",
      "1   354887  6303079709  A2I8RXJN80A2D2                     0   \n",
      "2  1407653  B004H0M2XC  A3FHV3RV8Z12E6                     0   \n",
      "3  1377458  B003ZJ9536  A12VLTA3ZHVPUY                     1   \n",
      "4   475323  630574453X  A13NM1PES9OXVN                     2   \n",
      "\n",
      "   HelpfulnessDenominator        Time  \\\n",
      "0                       2  1341014400   \n",
      "1                       0  1168819200   \n",
      "2                       0  1386201600   \n",
      "3                       1  1348704000   \n",
      "4                       3   970012800   \n",
      "\n",
      "                                         Summary  \\\n",
      "0                                  GOOD FUN FILM   \n",
      "1                                   Movie Review   \n",
      "2             When is it a good time to Consent?   \n",
      "3                                          TRUTH   \n",
      "4  Intelligent and bittersweet -- stays with you   \n",
      "\n",
      "                                                Text  Score  \n",
      "0  While most straight to DVD films are not worth...    5.0  \n",
      "1  I have wanted this one for sometime, also.  I ...    5.0  \n",
      "2  Actually this was a pretty darn good indie fil...    4.0  \n",
      "3  Episodes 37 to 72 of the series press on in a ...    5.0  \n",
      "4  I was really impressed with this movie, but wa...    3.0  \n",
      "\n",
      "        Id  Score\n",
      "0  1323432    NaN\n",
      "1  1137299    NaN\n",
      "2  1459366    NaN\n",
      "3   931601    NaN\n",
      "4  1311995    NaN\n",
      "\n",
      "                 Id  HelpfulnessNumerator  HelpfulnessDenominator  \\\n",
      "count  1.697533e+06          1.697533e+06            1.697533e+06   \n",
      "mean   8.487660e+05          3.569048e+00            5.301422e+00   \n",
      "std    4.900357e+05          1.727883e+01            2.024445e+01   \n",
      "min    0.000000e+00          0.000000e+00            0.000000e+00   \n",
      "25%    4.243830e+05          0.000000e+00            0.000000e+00   \n",
      "50%    8.487660e+05          1.000000e+00            1.000000e+00   \n",
      "75%    1.273149e+06          3.000000e+00            5.000000e+00   \n",
      "max    1.697532e+06          6.084000e+03            6.510000e+03   \n",
      "\n",
      "               Time         Score  \n",
      "count  1.697533e+06  1.485341e+06  \n",
      "mean   1.262422e+09  4.110517e+00  \n",
      "std    1.289277e+08  1.197651e+00  \n",
      "min    8.793792e+08  1.000000e+00  \n",
      "25%    1.164413e+09  4.000000e+00  \n",
      "50%    1.307491e+09  5.000000e+00  \n",
      "75%    1.373242e+09  5.000000e+00  \n",
      "max    1.406074e+09  5.000000e+00  \n"
     ]
    },
    {
     "data": {
      "image/png": "[encoded data removed]",
      "text/plain": [
       "<Figure size 640x480 with 1 Axes>"
      ]
     },
     "metadata": {},
     "output_type": "display_data"
    },
    {
     "name": "stdout",
     "output_type": "stream",
     "text": [
      "\n",
      "EVERYTHING IS PROPERLY SET UP! YOU ARE READY TO START\n"
     ]
    }
   ],
   "source": [
    "trainingSet = pd.read_csv(\"./data/train.csv\")\n",
    "testingSet = pd.read_csv(\"./data/test.csv\")\n",
    "\n",
    "print(\"train.csv shape is \", trainingSet.shape)\n",
    "print(\"test.csv shape is \", testingSet.shape)\n",
    "\n",
    "print()\n",
    "\n",
    "print(trainingSet.head())\n",
    "print()\n",
    "print(testingSet.head())\n",
    "\n",
    "print()\n",
    "\n",
    "print(trainingSet.describe())\n",
    "\n",
    "trainingSet['Score'].value_counts().plot(kind='bar', legend=True, alpha=.5)\n",
    "plt.show()\n",
    "\n",
    "print()\n",
    "print(\"EVERYTHING IS PROPERLY SET UP! YOU ARE READY TO START\")"
   ]
  },
  {
   "cell_type": "code",
   "execution_count": 3,
   "metadata": {},
   "outputs": [
    {
     "name": "stdout",
     "output_type": "stream",
     "text": [
      "(1697533, 9)\n"
     ]
    }
   ],
   "source": [
    "print(trainingSet.shape)"
   ]
  },
  {
   "cell_type": "markdown",
   "metadata": {},
   "source": [
    "# Adding Features"
   ]
  },
  {
   "cell_type": "code",
   "execution_count": 4,
   "metadata": {},
   "outputs": [],
   "source": [
    "import nltk\n",
    "from nltk.corpus import stopwords\n",
    "from nltk.stem import WordNetLemmatizer"
   ]
  },
  {
   "cell_type": "code",
   "execution_count": 5,
   "metadata": {},
   "outputs": [],
   "source": [
    "from sklearn.feature_extraction.text import CountVectorizer, TfidfVectorizer, TfidfTransformer\n",
    "from sklearn.pipeline import Pipeline, FeatureUnion\n",
    "from sklearn.linear_model import LogisticRegression, RidgeClassifier\n",
    "from sklearn.preprocessing import StandardScaler\n",
    "from sklearn.naive_bayes import MultinomialNB\n",
    "import gc\n",
    "import numpy as np"
   ]
  },
  {
   "cell_type": "code",
   "execution_count": 6,
   "metadata": {},
   "outputs": [],
   "source": [
    "# need to run once\n",
    "#nltk.download('stopwords')\n",
    "#nltk.download('punkt_tab')\n",
    "#nltk.download('wordnet')"
   ]
  },
  {
   "cell_type": "code",
   "execution_count": 7,
   "metadata": {},
   "outputs": [],
   "source": [
    "import re\n",
    "\n",
    "def add_features_to(df):\n",
    "    # This is where you can do all your feature extraction\n",
    "\n",
    "    df['Helpfulness'] = df['HelpfulnessNumerator'] / df['HelpfulnessDenominator']\n",
    "    df['Helpfulness'] = df['Helpfulness'].fillna(0)\n",
    "\n",
    "    df['Year'] = pd.to_datetime(df['Time'], unit='s').dt.year\n",
    "\n",
    "\n",
    "    # remove columns that I think aren't needed. file very large regardless\n",
    "    #not_needed_features = ['ProductId', 'UserId', 'HelpfulnessNumerator', 'HelpfulnessDenominator', 'Time']\n",
    "    #df.drop(not_needed_features, axis=1)\n",
    "\n",
    "    # make sure text and summary is not empty.\n",
    "    df['Text'] = df['Text'].fillna('').astype(str)\n",
    "    df['Summary'] = df['Summary'].fillna('').astype(str)\n",
    "    df['LenText'] = df['Text'].apply(len)\n",
    "    df['LenSummary'] = df['Summary'].apply(len)\n",
    "\n",
    "    '''\n",
    "    cleanedText = []\n",
    "    \n",
    "    lemma = WordNetLemmatizer()\n",
    "    stop_words = stopwords.words(\"english\")\n",
    "    for text in df['Text']:\n",
    "\n",
    "        # clean out non alphanumeric\n",
    "        text = re.sub(\"[^a-zA-Z0-9]\",\" \",text)\n",
    "        \n",
    "        # tokenize for bag of words\n",
    "        text = nltk.word_tokenize(text.lower())\n",
    "        text = [lemma.lemmatize(word) for word in text]\n",
    "        \n",
    "        # Removing stopwords\n",
    "        text = [word for word in text if word not in stop_words]\n",
    "        \n",
    "        # Joining\n",
    "        text = \" \".join(text)\n",
    "        \n",
    "        cleanedText.append(text)\n",
    "    \n",
    "    df['cleanedText'] = cleanedText\n",
    "    \n",
    "    cleanedSummary = []\n",
    "\n",
    "    for text in df['Summary']:\n",
    "\n",
    "        # clean out non alphanumeric\n",
    "        text = re.sub(\"[^a-zA-Z0-9]\",\" \",text)\n",
    "        \n",
    "        # tokenize for bag of words\n",
    "        text = nltk.word_tokenize(text.lower())\n",
    "        text = [lemma.lemmatize(word) for word in text]\n",
    "        \n",
    "        # Removing stopwords\n",
    "        text = [word for word in text if word not in stop_words]\n",
    "        \n",
    "        # Joining\n",
    "        text = \" \".join(text)\n",
    "        \n",
    "        cleanedSummary.append(text)\n",
    "    \n",
    "    df['cleanedSummary'] = cleanedSummary   \n",
    "    df['cleaned'] = df['cleanedSummary'] + ' ' + df['cleanedText']\n",
    "    '''\n",
    "    df['allText'] = df['ProductId'] + ' ' + df['Summary'] + ' ' + df['Text']\n",
    "    return df\n",
    "\n",
    "# Load the feature extracted files if they've already been generated\n",
    "if exists('./data/X_train.csv'):\n",
    "    X_train = pd.read_csv(\"./data/X_train.csv\")\n",
    "if exists('./data/X_submission.csv'):\n",
    "    X_submission = pd.read_csv(\"./data/X_submission.csv\")\n",
    "\n",
    "else:\n",
    "    # Process the DataFrame\n",
    "    train = add_features_to(trainingSet)\n",
    "\n",
    "    # Merge on Id so that the submission set can have feature columns as well\n",
    "    X_submission = pd.merge(train, testingSet, left_on='Id', right_on='Id')\n",
    "    X_submission = X_submission.drop(columns=['Score_x'])\n",
    "    X_submission = X_submission.rename(columns={'Score_y': 'Score'})\n",
    "\n",
    "    # The training set is where the score is not null\n",
    "    X_train =  train[train['Score'].notnull()]\n",
    "    \n",
    "    X_submission.to_csv(\"./data/X_submission.csv\", index=False)\n",
    "    X_train.to_csv(\"./data/X_train.csv\", index=False)"
   ]
  },
  {
   "cell_type": "code",
   "execution_count": 8,
   "metadata": {},
   "outputs": [],
   "source": [
    "#X_small = X_train.loc[(X_train['Helpfulness'] > 0.5) | (X_train['Score'] != 5.0)]\n",
    "#print(X_small.shape)\n",
    "#X_small['Score'].value_counts().plot(kind='bar', legend=True, alpha=.5)\n",
    "#plt.show()\n"
   ]
  },
  {
   "cell_type": "code",
   "execution_count": 9,
   "metadata": {},
   "outputs": [],
   "source": [
    "#vectorizer = CountVectorizer(ngram_range=(1,1), max_features=500)\n",
    "# values.astype('U') converts entire series and overloaded memory\n",
    "#summary_words = vectorizer.fit_transform(X_train['cleanedSummary'].apply(lambda x: np.str_(x))).astype(np.uint8)\n",
    "#print(summary_words.shape)\n",
    "\n",
    "#vectorizer2 = CountVectorizer(max_features=10000)\n",
    "#text_words = vectorizer.fit_transform(X_train['cleanedText'].apply(lambda x: np.str_(x))).astype(np.uint8)\n",
    "#print(text_words.shape)"
   ]
  },
  {
   "cell_type": "code",
   "execution_count": 10,
   "metadata": {},
   "outputs": [],
   "source": [
    "\n",
    "#tftran = TfidfVectorizer(ngram_range=(1,1), max_features=500)\n",
    "#summary_words = tftran.fit_transform(X_train['cleanedSummary'].apply(lambda x: np.str_(x))).astype(np.uint8)\n",
    "#print(summary_words.shape)\n",
    "#text_words = tftran.fit_transform(X_train['cleanedText'].apply(lambda x: np.str_(x))).astype(np.uint8)\n",
    "#print(text_words.shape)\n"
   ]
  },
  {
   "cell_type": "code",
   "execution_count": 9,
   "metadata": {},
   "outputs": [],
   "source": [
    "\n",
    "scaler = StandardScaler()\n",
    "X_train_extra = X_train[['Helpfulness', 'Year', 'LenText', 'LenSummary']]\n",
    "X_train_extra_vectorized = scaler.fit_transform(X_train_extra)\n",
    "X_sub_extra = X_submission[['Helpfulness', 'Year', 'LenText', 'LenSummary']]\n",
    "X_sub_extra_vectorized = scaler.fit_transform(X_sub_extra)\n"
   ]
  },
  {
   "cell_type": "markdown",
   "metadata": {},
   "source": [
    "# Feature Selection"
   ]
  },
  {
   "cell_type": "code",
   "execution_count": 12,
   "metadata": {},
   "outputs": [],
   "source": [
    "#features = ['cleanedText']\n",
    "\n",
    "#X_train_select = X_train[features]\n",
    "#X_test_select = X_test[features]\n",
    "#X_submission_select = X_submission[features]\n",
    "#X_train['alltext'] = X_train['cleanedSummary'] + X_train['cleanedText']"
   ]
  },
  {
   "cell_type": "markdown",
   "metadata": {},
   "source": [
    "# Sample + Split into training and testing set"
   ]
  },
  {
   "cell_type": "code",
   "execution_count": 10,
   "metadata": {},
   "outputs": [],
   "source": [
    "\n",
    "#tfVect = TfidfVectorizer(ngram_range=(1,2), max_features=50000, binary=True)\n",
    "#tfVect = TfidfVectorizer(max_features=5000, strip_accents=\"ascii\", stop_words=\"english\", ngram_range=(1,1), min_df=5)\n",
    "tfVect = TfidfVectorizer(max_features=15000, stop_words=\"english\", strip_accents=\"ascii\", ngram_range=(1,2), min_df=5)\n",
    "\n",
    "X_train_vectorized = tfVect.fit_transform(X_train['allText'].apply(lambda x: np.str_(x)))\n",
    "X_sub_vectorized = tfVect.transform(X_submission['allText'].apply(lambda x: np.str_(x)))\n",
    "\n"
   ]
  },
  {
   "cell_type": "code",
   "execution_count": 11,
   "metadata": {},
   "outputs": [],
   "source": [
    "from scipy.sparse import hstack, csr_matrix\n",
    "#np.stack not quite working\n",
    "#ValueError: all the input arrays must have same number of dimensions, but the array at index 0 has 1 dimension(s) and the array at index 1 has 2 dimension(s)\n",
    "X_train_all = hstack([X_train_vectorized, csr_matrix(X_train_extra_vectorized)])\n",
    "X_sub_all = hstack([X_sub_vectorized, csr_matrix(X_sub_extra_vectorized)])"
   ]
  },
  {
   "cell_type": "code",
   "execution_count": 12,
   "metadata": {},
   "outputs": [
    {
     "name": "stdout",
     "output_type": "stream",
     "text": [
      "(1188272, 15004)\n",
      "(297069, 15004)\n",
      "(1188272,)\n",
      "(297069,)\n"
     ]
    }
   ],
   "source": [
    "# Split training set into training and testing set\n",
    "X_train_split, X_test_split, Y_train_split, Y_test_split = train_test_split(\n",
    "    #X_train.drop(columns=['Score']),\n",
    "    #np.concatenate((summary_words.toarray(), text_words.toarray()), axis=1),\n",
    "    X_train_all,\n",
    "    X_train['Score'],\n",
    "    test_size=0.2,\n",
    "    random_state=42\n",
    ")\n",
    "print(X_train_split.shape)\n",
    "print(X_test_split.shape)\n",
    "print(Y_train_split.shape)\n",
    "print(Y_test_split.shape)"
   ]
  },
  {
   "cell_type": "markdown",
   "metadata": {},
   "source": [
    "# Model Creation"
   ]
  },
  {
   "cell_type": "code",
   "execution_count": 13,
   "metadata": {},
   "outputs": [
    {
     "name": "stdout",
     "output_type": "stream",
     "text": [
      "Fitting SVC took 715.52 seconds\n"
     ]
    }
   ],
   "source": [
    "# Learn the model\n",
    "#model = KNeighborsClassifier(n_neighbors=3).fit(X_train_select, Y_train)\n",
    "import time\n",
    "\n",
    "start_time = time.time()\n",
    "\n",
    "# LinearSVC produces values between 1 and 5 such as 1.5\n",
    "# Using SVC only produces integers\n",
    "#model = LinearSVC(dual=\"auto\", random_state=42)\n",
    "#model = LogisticRegression(max_iter=1000, class_weight=\"balanced\", random_state=42)\n",
    "model = LogisticRegression(max_iter=1000, random_state=42)\n",
    "#model = MultinomialNB()\n",
    "\n",
    "model.fit(X_train_split, Y_train_split)\n",
    "\n",
    "end_time = time.time()\n",
    "process_time = round(end_time-start_time,2)\n",
    "print(\"Fitting SVC took {} seconds\".format(process_time))\n",
    "\n",
    "# Predict the score using the model\n",
    "Y_test_predictions = model.predict(X_test_split)"
   ]
  },
  {
   "cell_type": "markdown",
   "metadata": {},
   "source": [
    "# Model Evaluation"
   ]
  },
  {
   "cell_type": "code",
   "execution_count": 14,
   "metadata": {},
   "outputs": [
    {
     "name": "stdout",
     "output_type": "stream",
     "text": [
      "Accuracy on testing set =  0.6591263309197527\n"
     ]
    },
    {
     "data": {
      "image/png": "[encoded data removed]",
      "text/plain": [
       "<Figure size 640x480 with 2 Axes>"
      ]
     },
     "metadata": {},
     "output_type": "display_data"
    }
   ],
   "source": [
    "# Evaluate your model on the testing set\n",
    "print(\"Accuracy on testing set = \", accuracy_score(Y_test_split, Y_test_predictions))\n",
    "\n",
    "# Plot a confusion matrix\n",
    "cm = confusion_matrix(Y_test_split, Y_test_predictions, normalize='true')\n",
    "sns.heatmap(cm, annot=True)\n",
    "plt.title('Confusion matrix of the classifier')\n",
    "plt.xlabel('Predicted')\n",
    "plt.ylabel('True')\n",
    "plt.show()"
   ]
  },
  {
   "cell_type": "markdown",
   "metadata": {},
   "source": [
    "# Create submission file"
   ]
  },
  {
   "cell_type": "code",
   "execution_count": 15,
   "metadata": {},
   "outputs": [],
   "source": [
    "# Create the submission file\n",
    "#X_sub_vectorized = tfVect.transform(X_submission['cleaned'].apply(lambda x: np.str_(x)))\n",
    "\n",
    "X_submission['Score'] = model.predict(X_sub_all)\n",
    "submission = X_submission[['Id', 'Score']]\n",
    "submission.to_csv(\"./data/submission.csv\", index=False)"
   ]
  }
 ],
 "metadata": {
  "kernelspec": {
   "display_name": "Python 3",
   "language": "python",
   "name": "python3"
  },
  "language_info": {
   "codemirror_mode": {
    "name": "ipython",
    "version": 3
   },
   "file_extension": ".py",
   "mimetype": "text/x-python",
   "name": "python",
   "nbconvert_exporter": "python",
   "pygments_lexer": "ipython3",
   "version": "3.11.5"
  }
 },
 "nbformat": 4,
 "nbformat_minor": 4
}
